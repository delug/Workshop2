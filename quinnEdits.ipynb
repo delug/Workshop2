{
 "cells": [
  {
   "cell_type": "code",
   "execution_count": 1,
   "metadata": {},
   "outputs": [],
   "source": [
    "import numpy as np"
   ]
  },
  {
   "cell_type": "code",
   "execution_count": 3,
   "metadata": {},
   "outputs": [
    {
     "name": "stdout",
     "output_type": "stream",
     "text": [
      "This is the first matrix:\n",
      "[[1 2]\n",
      " [3 4]]\n",
      "\n",
      "This is the second matrix:\n",
      "[[5 6]\n",
      " [7 8]]\n",
      "\n",
      "This is their product:\n",
      "[[19 22]\n",
      " [43 50]]\n"
     ]
    }
   ],
   "source": [
    "#initializes 2 2x2 matrices\n",
    "matrix1 = np.array([[1,2],[3,4]])\n",
    "matrix2 = np.array([[5,6],[7,8]])\n",
    "\n",
    "print('This is the first matrix:')\n",
    "print(matrix1)\n",
    "print()\n",
    "\n",
    "print('This is the second matrix:')\n",
    "print(matrix2)\n",
    "print()\n",
    "\n",
    "print('This is their product:')\n",
    "\n",
    "#multiplies the 2 matrices together\n",
    "print(np.dot(matrix1,matrix2))"
   ]
  },
  {
   "cell_type": "code",
   "execution_count": 9,
   "metadata": {},
   "outputs": [
    {
     "name": "stdout",
     "output_type": "stream",
     "text": [
      "[[[ 1  2]\n",
      "  [ 3  4]\n",
      "  [ 5  6]]\n",
      "\n",
      " [[ 7  8]\n",
      "  [ 9 10]\n",
      "  [11 12]]\n",
      "\n",
      " [[13 14]\n",
      "  [15 16]\n",
      "  [17 18]]\n",
      "\n",
      " [[19 20]\n",
      "  [21 22]\n",
      "  [23 24]]]\n",
      "(4, 3, 2)\n",
      "\n",
      "[[[0. 0.]\n",
      "  [0. 0.]\n",
      "  [0. 0.]]\n",
      "\n",
      " [[0. 0.]\n",
      "  [0. 0.]\n",
      "  [0. 0.]]\n",
      "\n",
      " [[0. 0.]\n",
      "  [0. 0.]\n",
      "  [0. 0.]]\n",
      "\n",
      " [[0. 0.]\n",
      "  [0. 0.]\n",
      "  [0. 0.]]]\n",
      "(4, 3, 2)\n",
      "\n"
     ]
    }
   ],
   "source": [
    "#initializes a 4x3x2 tensor with the values from 1 to 24\n",
    "t = np.array([[[1,2],[3,4],[5,6]],[[7,8],[9,10],[11,12]],[[13,14],[15,16],[17,18]],[[19,20],[21,22],[23,24]]])\n",
    "print(t)\n",
    "\n",
    "#prints the shape of the tensor t\n",
    "print(t.shape)\n",
    "print()\n",
    "\n",
    "#initializes a 4x3x2 tensor with the value 0 in each position\n",
    "u = np.zeros([4,3,2])\n",
    "print(u)\n",
    "print(u.shape)"
   ]
  },
  {
   "cell_type": "code",
   "execution_count": 10,
   "metadata": {},
   "outputs": [
    {
     "name": "stdout",
     "output_type": "stream",
     "text": [
      "This is v:\n",
      "[[[2.  3.5]\n",
      "  [4.  2. ]]\n",
      "\n",
      " [[1.5 1. ]\n",
      "  [2.  1. ]]]\n",
      "\n",
      "This is v+2:\n",
      "[[[4.  5.5]\n",
      "  [6.  4. ]]\n",
      "\n",
      " [[3.5 3. ]\n",
      "  [4.  3. ]]]\n",
      "\n",
      "This is v-2:\n",
      "[[[ 0.   1.5]\n",
      "  [ 2.   0. ]]\n",
      "\n",
      " [[-0.5 -1. ]\n",
      "  [ 0.  -1. ]]]\n",
      "\n",
      "This is v*2:\n",
      "[[[4. 7.]\n",
      "  [8. 4.]]\n",
      "\n",
      " [[3. 2.]\n",
      "  [4. 2.]]]\n",
      "\n",
      "This is v/2: \n",
      "[[[1.   1.75]\n",
      "  [2.   1.  ]]\n",
      "\n",
      " [[0.75 0.5 ]\n",
      "  [1.   0.5 ]]]\n"
     ]
    }
   ],
   "source": [
    "#initializes a 2x2x2 tensor with specified values\n",
    "v = np.array([[[2,3.5],[4,2]],[[1.5,1],[2,1]]])\n",
    "print('This is v:')\n",
    "print(v)\n",
    "print()\n",
    "\n",
    "#constructs a new 2x2x2 tensor formed by adding 2 to each of the entries in v\n",
    "vAdd = v + 2\n",
    "print('This is v+2:')\n",
    "print(vAdd)\n",
    "print()\n",
    "\n",
    "#constructs a new 2x2x2 tensor formed by subtracting 2 from each of the entries in v\n",
    "vSubtract = v - 2\n",
    "print('This is v-2:')\n",
    "print(vSubtract)\n",
    "print()\n",
    "\n",
    "#constructs a new 2x2x2 tensor formed by multiplying each of the entries by 2\n",
    "vMultiply = v * 2\n",
    "print('This is v*2:')\n",
    "print(vMultiply)\n",
    "print()\n",
    "\n",
    "#constructs a new 2x2x2 tensor formed by dividing each of the entries by 2\n",
    "vDivide = v / 2\n",
    "print('This is v/2: ')\n",
    "print(vDivide)"
   ]
  },
  {
   "cell_type": "code",
   "execution_count": 12,
   "metadata": {},
   "outputs": [
    {
     "name": "stdout",
     "output_type": "stream",
     "text": [
      "This is v: \n",
      "[[[1.5  2.25]\n",
      "  [2.5  1.5 ]]\n",
      "\n",
      " [[1.25 1.  ]\n",
      "  [1.5  1.  ]]]\n",
      "\n",
      "This is v after adding 1\n",
      "[[[2.5  3.25]\n",
      "  [3.5  2.5 ]]\n",
      "\n",
      " [[2.25 2.  ]\n",
      "  [2.5  2.  ]]]\n",
      "\n",
      "This is v after dividing by 2\n",
      "[[[1.25  1.625]\n",
      "  [1.75  1.25 ]]\n",
      "\n",
      " [[1.125 1.   ]\n",
      "  [1.25  1.   ]]]\n",
      "\n",
      "This is w, changed by the operations performed on v: \n",
      "[[[1.25  1.625]\n",
      "  [1.75  1.25 ]]\n",
      "\n",
      " [[1.125 1.   ]\n",
      "  [1.25  1.   ]]]\n",
      "\n",
      "This is x, unchanged by the operations performed on v: \n",
      "[[[1.5  2.25]\n",
      "  [2.5  1.5 ]]\n",
      "\n",
      " [[1.25 1.  ]\n",
      "  [1.5  1.  ]]]\n"
     ]
    }
   ],
   "source": [
    "#assigns the name w to v, creating a shallow copy\n",
    "w = v\n",
    "\n",
    "#constructs a new tensor x with the values of v, creating a deep copy\n",
    "x = np.copy(v)\n",
    "\n",
    "print('This is v: ')\n",
    "print(v)\n",
    "print()\n",
    "\n",
    "#adds 1 to each value in v\n",
    "v += 1\n",
    "print('This is v after adding 1')\n",
    "print(v)\n",
    "print()\n",
    "\n",
    "#divides each value in v by 2\n",
    "v /= 2\n",
    "print('This is v after dividing by 2')\n",
    "print(v)\n",
    "print()\n",
    "\n",
    "print('This is w, changed by the operations performed on v: ')\n",
    "print(w)\n",
    "print()\n",
    "\n",
    "print('This is x, unchanged by the operations performed on v: ')\n",
    "print(x)"
   ]
  },
  {
   "cell_type": "code",
   "execution_count": null,
   "metadata": {},
   "outputs": [],
   "source": []
  }
 ],
 "metadata": {
  "kernelspec": {
   "display_name": "Python 3",
   "language": "python",
   "name": "python3"
  },
  "language_info": {
   "codemirror_mode": {
    "name": "ipython",
    "version": 3
   },
   "file_extension": ".py",
   "mimetype": "text/x-python",
   "name": "python",
   "nbconvert_exporter": "python",
   "pygments_lexer": "ipython3",
   "version": "3.7.2"
  }
 },
 "nbformat": 4,
 "nbformat_minor": 2
}
